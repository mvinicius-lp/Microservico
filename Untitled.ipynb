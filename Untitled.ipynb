{
 "cells": [
  {
   "cell_type": "markdown",
   "id": "207dd922",
   "metadata": {},
   "source": [
    "#Microserviço_Teste"
   ]
  },
  {
   "cell_type": "code",
   "execution_count": 2,
   "id": "031aa641",
   "metadata": {},
   "outputs": [],
   "source": [
    "import requests\n",
    "import tkinter as tk\n",
    "from tkinter import messagebox\n",
    "\n",
    "def testar_endpoint(url):\n",
    "    try:\n",
    "        response = requests.get(url)\n",
    "        response.raise_for_status()\n",
    "        return True\n",
    "    except requests.exceptions.RequestException:\n",
    "        return False\n",
    "\n",
    "def iniciar_teste():\n",
    "    url = entry_url.get()\n",
    "    if url:\n",
    "        if testar_endpoint(url):\n",
    "            messagebox.showinfo(\"Teste Bem-Sucedido\", f\"O teste para {url} foi bem-sucedido.\")\n",
    "        else:\n",
    "            messagebox.showerror(\"Erro no Teste\", f\"Não foi possível conectar ao {url}. Verifique a URL e tente novamente.\")\n",
    "    else:\n",
    "        messagebox.showwarning(\"Campo Vazio\", \"Por favor, insira a URL do microsserviço.\")\n",
    "\n",
    "# Interface gráfica\n",
    "root = tk.Tk()\n",
    "root.title(\"Teste de Microsserviço\")\n",
    "\n",
    "# Entrada de URL\n",
    "label_url = tk.Label(root, text=\"URL do Microsserviço:\")\n",
    "label_url.pack(pady=10)\n",
    "\n",
    "entry_url = tk.Entry(root, width=40)\n",
    "entry_url.pack(pady=10)\n",
    "\n",
    "# Botão de iniciar teste\n",
    "btn_testar = tk.Button(root, text=\"Iniciar Teste\", command=iniciar_teste)\n",
    "btn_testar.pack(pady=10)\n",
    "\n",
    "# Iniciar o loop da interface gráfica\n",
    "root.mainloop()"
   ]
  },
  {
   "cell_type": "code",
   "execution_count": null,
   "id": "c7b87f4d",
   "metadata": {},
   "outputs": [],
   "source": []
  }
 ],
 "metadata": {
  "kernelspec": {
   "display_name": "Python 3 (ipykernel)",
   "language": "python",
   "name": "python3"
  },
  "language_info": {
   "codemirror_mode": {
    "name": "ipython",
    "version": 3
   },
   "file_extension": ".py",
   "mimetype": "text/x-python",
   "name": "python",
   "nbconvert_exporter": "python",
   "pygments_lexer": "ipython3",
   "version": "3.9.13"
  }
 },
 "nbformat": 4,
 "nbformat_minor": 5
}
